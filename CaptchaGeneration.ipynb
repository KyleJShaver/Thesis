{
 "cells": [
  {
   "cell_type": "markdown",
   "metadata": {},
   "source": [
    "# Captcha Generation\n",
    "\n",
    "Run the following code to generate captchas to be used to train the ML system. The first code block will define the functions needed, and any parameters can be modified or changed. The second block will generate a bulk chunk of captchas. These will be saved to the local system for use in other systems as well."
   ]
  },
  {
   "cell_type": "code",
   "execution_count": 1,
   "metadata": {},
   "outputs": [],
   "source": [
    "from PIL import Image\n",
    "from PIL import ImageFont\n",
    "from PIL import ImageDraw\n",
    "import random\n",
    "\n",
    "# Define parameters\n",
    "size = (172, 56)\n",
    "darkestgray = 255\n",
    "lightestgray = 255\n",
    "color = False\n",
    "wobble = 0\n",
    "num = 1\n",
    "\n",
    "def randval(small, big):\n",
    "    return random.randint(small, big)\n",
    "\n",
    "def randdec(small, big):\n",
    "    return randval(small * 100, big * 100) / 100.0\n",
    "\n",
    "def gen(num):\n",
    "    for _ in range(0, num):\n",
    "        img = Image.new(\"RGBA\", size, \"white\")\n",
    "        draw = ImageDraw.Draw(img)\n",
    "        for x in range(0, size[0] - 1):\n",
    "            for y in range(0, size[1] - 1):\n",
    "                r = randval(darkestgray,lightestgray)\n",
    "                g, b  = r, r\n",
    "                if color is True:\n",
    "                    g = randval(darkestgray,lightestgray)\n",
    "                    b = randval(darkestgray,lightestgray)\n",
    "                img.putpixel((x,y), (r, g, b, 255))\n",
    "        font = ImageFont.truetype(\"Roboto-Regular.ttf\", 32)\n",
    "        glyphs = \"QWERTYUIOPASDFGHJKLZXCVBNM123456789\"\n",
    "        s = \"\"\n",
    "        for _ in range(0,6):\n",
    "            s += glyphs[random.randint(0,len(glyphs) - 1)]\n",
    "        textimg = Image.new(\"RGBA\", size, (0,0,0,0))\n",
    "        textdraw = ImageDraw.Draw(textimg)\n",
    "        textdraw.text((randval(10,30), randval(4,10)),s,(0,0,0),font=font)\n",
    "        rotated = textimg.rotate(randdec(-wobble,wobble), expand=0)\n",
    "        img = Image.alpha_composite(img, rotated)\n",
    "        if num > 1:\n",
    "            img.save(\"bulk/\"+s+\".png\")\n",
    "        else:\n",
    "            img.save('out.png')\n",
    "\n",
    "gen(num)"
   ]
  },
  {
   "cell_type": "code",
   "execution_count": 2,
   "metadata": {},
   "outputs": [],
   "source": [
    "gen(100)"
   ]
  }
 ],
 "metadata": {
  "kernelspec": {
   "display_name": "Python 2",
   "language": "python",
   "name": "python2"
  },
  "language_info": {
   "codemirror_mode": {
    "name": "ipython",
    "version": 2
   },
   "file_extension": ".py",
   "mimetype": "text/x-python",
   "name": "python",
   "nbconvert_exporter": "python",
   "pygments_lexer": "ipython2",
   "version": "2.7.12"
  }
 },
 "nbformat": 4,
 "nbformat_minor": 2
}
